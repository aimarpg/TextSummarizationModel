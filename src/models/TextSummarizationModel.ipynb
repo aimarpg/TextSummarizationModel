{
 "cells": [
  {
   "cell_type": "markdown",
   "id": "4aac813a",
   "metadata": {},
   "source": [
    "### DEEP LEARNING"
   ]
  },
  {
   "cell_type": "markdown",
   "id": "1f2eec05",
   "metadata": {},
   "source": [
    "# **TEXT SUMMARIZATION MODEL**"
   ]
  },
  {
   "cell_type": "markdown",
   "id": "7ccd032a",
   "metadata": {},
   "source": [
    "**IMPORTS**"
   ]
  },
  {
   "cell_type": "code",
   "execution_count": null,
   "id": "69f93717",
   "metadata": {},
   "outputs": [],
   "source": [
    "import pandas as pd\n",
    "import numpy as np\n",
    "import torch\n",
    "import torch.nn as nn\n",
    "from torch.utils.data import Dataset, DataLoader\n",
    "from transformers import BertTokenizer\n",
    "import ast\n",
    "from sklearn.model_selection import train_test_split\n",
    "import re\n",
    "\n",
    "torch.manual_seed(42)\n",
    "np.random.seed(42)\n",
    "device = torch.device('cuda' if torch.cuda.is_available() else 'cpu')\n",
    "print(f\"Using device: {device}\")"
   ]
  },
  {
   "cell_type": "markdown",
   "id": "3a50cf12",
   "metadata": {},
   "source": [
    "**DATA LOADING AND PREPROCESSING**"
   ]
  },
  {
   "cell_type": "code",
   "execution_count": null,
   "id": "ed5068e8",
   "metadata": {},
   "outputs": [],
   "source": [
    "train_df = pd.read_csv('../data/train.csv', header=None)\n",
    "test_df = pd.read_csv('../data/test.csv', header=None)\n",
    "\n",
    "columns = ['id', 'article', 'summary']\n",
    "train_df.columns = columns\n",
    "test_df.columns = columns\n",
    "\n",
    "def preprocess_text(text):\n",
    "    text = text.replace('\\n', ' ')\n",
    "    text = ' '.join(text.split())\n",
    "    return text\n",
    "\n",
    "def clean_article_heading(article):\n",
    "    pattern = r'By\\s*\\.\\s*.*?\\s*\\.\\s*PUBLISHED:\\s*\\.\\s*\\d+:\\d+\\s*EST,\\s*\\d+\\s*[A-Za-z]+\\s*\\d+\\s*\\.\\s*\\|\\s*\\.\\s*UPDATED:\\s*\\.\\s*\\d+:\\d+\\s*EST,\\s*\\d+\\s*[A-Za-z]+\\s*\\d+\\s*\\.'\n",
    "    cleaned_text = re.sub(pattern, '', article)\n",
    "    return cleaned_text.strip()\n",
    "\n",
    "train_df['article'] = train_df['article'].apply(preprocess_text)\n",
    "train_df['article'] = train_df['article'].apply(clean_article_heading)\n",
    "train_df['summary'] = train_df['summary'].apply(preprocess_text)\n",
    "test_df['article'] = test_df['article'].apply(preprocess_text)\n",
    "test_df['article'] = test_df['article'].apply(clean_article_heading)\n",
    "test_df['summary'] = test_df['summary'].apply(preprocess_text)\n",
    "\n",
    "tokenizer = BertTokenizer.from_pretrained('bert-base-uncased')\n",
    "\n",
    "print(f\"Training dataframe shape: {train_df.shape}\")\n",
    "print(f\"Test dataframe shape: {test_df.shape}\")"
   ]
  },
  {
   "cell_type": "code",
   "execution_count": 23,
   "id": "2a12c0cb",
   "metadata": {},
   "outputs": [
    {
     "name": "stdout",
     "output_type": "stream",
     "text": [
      "0001d1afc246a7964130f43ae940af6bc6c57f01\n",
      "Arkansas police have arrested a neighbor in the killing of a six-year-old girl whose body was found two days before Thanksgiving. Zachary Dewayne Holly, 28, of Bentonville, Arkansas, is being charged with capital murder, kidnapping and residential burglary and is being held in the local county jail. Little Jersey Bridgeman was reported missing the morning of November 20, and her body was found minutes after a search began in an abandoned house two doors from her home. Jersey, whose . father and stepmother were jailed last year for chaining her to a . dresser, disappeared from her bedroom at her home in Bentonville on . Monday night. Scroll down for video . Murdered: Police are questioning sex offenders in the death of 6-year-old girl Jersey Bridgeman whose body was found after she disappeared from her home on Monday night . Tragic: Jersey Bridgeman was chained to a dresser last year by her father and stepmom before moving to live with her biological mother . This booking photo provided by the Benton County Sheriff's office shows Zachary Holly after his Monday arrest . ‘Many questions related to this investigation and arrest will be answered by the affidavit of probable cause, which will be released on Wednesday,’ said Police Chief Jon Simpson. Simpson said work by the State Crime Lab helped speed the arrest, but he did not reveal how Jersey was killed or release other details about her death or what led police to Holly. Simpson said Holly will have a bail and probable cause hearing Wednesday, during which a probable cause affidavit will be released. He said the girl's family had been notified about the arrest. Holly lives next door to the six-year-old victim, in between her house and the vacant house where her body was found. Arrested for murder: Zachary Dewayne Holly with his wife Amanda Jo Holly . Newly weds: Zachary Dewayne Holly and Amanda Jo Holly were married in March, according to their Facebook pages . Holly, 26, states on his Facebook page that he lives with his wife Amanda Jo Holly and her four-year-old son and that he graduated from Huntsville High School in Texas in 2004. Amanda Jo Holly is Facebook friends with Jersey’s biological mother, DesaRae Bridgeman. Bridgeman said she last saw her daughter around midnight, before reporting her missing around 6.30am. Authorities found her body approximately 10 minutes later. After Jersey's body was found, investigators searched the home where she lived and the house where her body was found, as well as the homes in between. The FBI was . brought in to assist in the investigation. Meanwhile, it is still unclear where DesaRae Bridgeman was at the time of the missing persons call. Bentonville police said on Friday that certain details of the case were being withheld 'to maintain the integrity of the investigation'. Birthday: Jersey turned six-years-old last week . After the arrest of her father and stepmother, Jersey was put under the care of her biological mother. According to police reports, she died between midnight and 6.43 am, when police received the call that the girl had gone missing. Police said the six-year-old had been living with a 'relative' when she went missing. Stepmother Jana Bridgeman, also identified as Jana Slinkard in court records, is serving a 12-year prison sentence, plus three years for a probation revocation, according to online Department of Correction records. David Bridgeman is serving an 18-year prison sentence. Prison records show he has a tattoo that says 'Jersey'. Questions: Police have yet to release a cause of death or a list of suspects and are still attempting to find the whereabouts of Bridgeman's mother and caretaker. Jersey made headlines last year when her father and stepmother chained her to a dresser as part of a punishment. In conversations with childcare specialists, the six-year-old said that she slept on the floor of her parents' room and that she was tied up for misbehaving. Behind Bars: Bridgeman's father was sentenced to 18 years in prison for having chained the girl to a dresser as punishment . 'She said that Jana and David chain her to the dresser because she had gotten up and eaten some pies, cereal, and bread,' Rogers Police Detective Larry Taylor wrote in the court affidavit. He added that the girl 'stated that they put a belt around her waist so that she could not get up and get any food.' The woman who first contacted the police . about possible child endangerment said she saw Jersey tied up to the dresser with a . silver chain, which appeared to be a dog collar. Jersey's father David admitted in court that he did tie up his daughter with a belt but defended his actions by saying that this was to prevent her from getting into medication and other dangerous materials around the house. 'He said that he thinks she may be sleepwalking and that they discussed buying a child gate, but since he does not have a job, they could not afford to buy one at that time,' Taylor wrote in the court affidavit. The father added that he had first cut a belt to fit around his daughter's ankle and added a lock on it after she had broken free. Then after she complained about the pain in her leg, he chained her by the waist instead. 'It should be noted that the chain that David used was approximately one to two feet in length and appeared to be a dog choke collar,' Taylor added. Both Bridgeman's father and stepmother pleaded guilty to false imprisonment, permitting abuse of a minor and endangering the welfare of a minor. For their crime, the father is serving an 18-year prison sentence, while the stepmother was sentenced to 12 years. Tragic: Jersey pictured with her biological mother DesaRae Bridgeman. It is not clear where she was when Jersey was reported missing . Shaken: More than 100 people gathered Tuesday to hold a candlelight vigil for Bridgeman. Remembered: The six-year-old was well loved in her community and many describing her as being special. Jersey's death has left her community shaken. The local school district is currently working on ways to address the death and help students cope with the loss. Administrators said they hope to have finalized plan ready by the time classes resume on Monday. On Tuesday more than 100 people gathered at the Children's Advocacy Center to hold a candlelight vigil in honor of the girl. Members of the event were visible distraught by the girl's death, and to many, she was well-loved. 'There was a unique quality about Jersey,' Beverly Engle, the center's executive director, said. 'A little old soul, but such a delight.' A funeral for Jersey is set for 1 p.m. Tuesday at Rogers Funeral Home in Rogers. Watch video here .\n",
      "Zachary Holly, 28, was arrested in killing of six-year-old Jersey Bridgeman . Jersey was in the care of her mother DesaRae Bridgeman when she died . Her body was found in a vacant house close to where she lived with her mom and mom's boyfriend . Father and stepmother both serving prison sentences for child abuse .\n",
      "(287114, 3)\n",
      "(11491, 3)\n"
     ]
    }
   ],
   "source": [
    "print(train_df['id'].iloc[1])\n",
    "print(train_df['article'].iloc[136740])\n",
    "print(train_df['summary'].iloc[136740])\n",
    "print(train_df.shape)\n",
    "print(test_df.shape)"
   ]
  },
  {
   "cell_type": "markdown",
   "id": "6767ea80",
   "metadata": {},
   "source": [
    "**CUSTOM DATASET**"
   ]
  },
  {
   "cell_type": "code",
   "execution_count": 21,
   "id": "c6d3f8be",
   "metadata": {},
   "outputs": [
    {
     "name": "stdout",
     "output_type": "stream",
     "text": [
      "Training samples: 287114\n",
      "Testing samples: 11491\n"
     ]
    }
   ],
   "source": [
    "class NewsDataset(Dataset):\n",
    "    def __init__(self, articles, summaries, tokenizer, max_length=512):\n",
    "        self.articles = articles\n",
    "        self.summaries = summaries\n",
    "        self.tokenizer = tokenizer\n",
    "        self.max_length = max_length\n",
    "    \n",
    "    def __len__(self):\n",
    "        return len(self.articles)\n",
    "    \n",
    "    def __getitem__(self, idx):\n",
    "        article = str(self.articles[idx])\n",
    "        summary = str(self.summaries[idx])\n",
    "        \n",
    "        article_encoding = self.tokenizer(\n",
    "            article,\n",
    "            max_length=self.max_length,\n",
    "            padding='max_length',\n",
    "            truncation=True,\n",
    "            return_tensors='pt'\n",
    "        )\n",
    "        \n",
    "        summary_encoding = self.tokenizer(\n",
    "            summary,\n",
    "            max_length=128,\n",
    "            padding='max_length',\n",
    "            truncation=True,\n",
    "            return_tensors='pt'\n",
    "        )\n",
    "        \n",
    "        return {\n",
    "            'article_input_ids': article_encoding['input_ids'].flatten(),\n",
    "            'article_attention_mask': article_encoding['attention_mask'].flatten(),\n",
    "            'summary_input_ids': summary_encoding['input_ids'].flatten(),\n",
    "            'summary_attention_mask': summary_encoding['attention_mask'].flatten()\n",
    "        }\n",
    "    \n",
    "train_dataset = NewsDataset(\n",
    "    train_df['article'].values,\n",
    "    train_df['summary'].values,\n",
    "    tokenizer\n",
    ")\n",
    "\n",
    "test_dataset = NewsDataset(\n",
    "    test_df['article'].values,\n",
    "    test_df['summary'].values,\n",
    "    tokenizer\n",
    ")\n",
    "\n",
    "train_loader = DataLoader(train_dataset, batch_size=8, shuffle=True)\n",
    "test_loader = DataLoader(test_dataset, batch_size=8, shuffle=False)\n",
    "\n",
    "print(f\"Training samples: {len(train_dataset)}\")\n",
    "print(f\"Testing samples: {len(test_dataset)}\")"
   ]
  }
 ],
 "metadata": {
  "kernelspec": {
   "display_name": "dl",
   "language": "python",
   "name": "python3"
  },
  "language_info": {
   "codemirror_mode": {
    "name": "ipython",
    "version": 3
   },
   "file_extension": ".py",
   "mimetype": "text/x-python",
   "name": "python",
   "nbconvert_exporter": "python",
   "pygments_lexer": "ipython3",
   "version": "3.12.2"
  }
 },
 "nbformat": 4,
 "nbformat_minor": 5
}
