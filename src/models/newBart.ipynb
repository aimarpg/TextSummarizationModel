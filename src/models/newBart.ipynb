{
 "cells": [
  {
   "cell_type": "markdown",
   "id": "5d703c53",
   "metadata": {},
   "source": [
    "**BART NEW**"
   ]
  },
  {
   "cell_type": "code",
   "execution_count": 6,
   "id": "c5f2aaba",
   "metadata": {},
   "outputs": [
    {
     "name": "stdout",
     "output_type": "stream",
     "text": [
      "Requirement already satisfied: torch in /home/ud/myenv/lib/python3.12/site-packages (2.7.0)\n",
      "Requirement already satisfied: numpy in /home/ud/myenv/lib/python3.12/site-packages (1.26.4)\n",
      "Requirement already satisfied: pandas in /home/ud/myenv/lib/python3.12/site-packages (2.2.3)\n",
      "Requirement already satisfied: nltk in /home/ud/myenv/lib/python3.12/site-packages (3.9.1)\n",
      "Requirement already satisfied: rouge-score in /home/ud/myenv/lib/python3.12/site-packages (0.1.2)\n",
      "Requirement already satisfied: transformers in /home/ud/myenv/lib/python3.12/site-packages (4.51.3)\n",
      "Requirement already satisfied: gensim in /home/ud/myenv/lib/python3.12/site-packages (4.3.3)\n",
      "Requirement already satisfied: tqdm in /home/ud/myenv/lib/python3.12/site-packages (4.67.1)\n",
      "Requirement already satisfied: matplotlib in /home/ud/myenv/lib/python3.12/site-packages (3.10.3)\n",
      "Requirement already satisfied: filelock in /home/ud/myenv/lib/python3.12/site-packages (from torch) (3.18.0)\n",
      "Requirement already satisfied: typing-extensions>=4.10.0 in /home/ud/myenv/lib/python3.12/site-packages (from torch) (4.13.2)\n",
      "Requirement already satisfied: setuptools in /home/ud/myenv/lib/python3.12/site-packages (from torch) (80.7.1)\n",
      "Requirement already satisfied: sympy>=1.13.3 in /home/ud/myenv/lib/python3.12/site-packages (from torch) (1.14.0)\n",
      "Requirement already satisfied: networkx in /home/ud/myenv/lib/python3.12/site-packages (from torch) (3.4.2)\n",
      "Requirement already satisfied: jinja2 in /home/ud/myenv/lib/python3.12/site-packages (from torch) (3.1.6)\n",
      "Requirement already satisfied: fsspec in /home/ud/myenv/lib/python3.12/site-packages (from torch) (2025.3.2)\n",
      "Requirement already satisfied: nvidia-cuda-nvrtc-cu12==12.6.77 in /home/ud/myenv/lib/python3.12/site-packages (from torch) (12.6.77)\n",
      "Requirement already satisfied: nvidia-cuda-runtime-cu12==12.6.77 in /home/ud/myenv/lib/python3.12/site-packages (from torch) (12.6.77)\n",
      "Requirement already satisfied: nvidia-cuda-cupti-cu12==12.6.80 in /home/ud/myenv/lib/python3.12/site-packages (from torch) (12.6.80)\n",
      "Requirement already satisfied: nvidia-cudnn-cu12==9.5.1.17 in /home/ud/myenv/lib/python3.12/site-packages (from torch) (9.5.1.17)\n",
      "Requirement already satisfied: nvidia-cublas-cu12==12.6.4.1 in /home/ud/myenv/lib/python3.12/site-packages (from torch) (12.6.4.1)\n",
      "Requirement already satisfied: nvidia-cufft-cu12==11.3.0.4 in /home/ud/myenv/lib/python3.12/site-packages (from torch) (11.3.0.4)\n",
      "Requirement already satisfied: nvidia-curand-cu12==10.3.7.77 in /home/ud/myenv/lib/python3.12/site-packages (from torch) (10.3.7.77)\n",
      "Requirement already satisfied: nvidia-cusolver-cu12==11.7.1.2 in /home/ud/myenv/lib/python3.12/site-packages (from torch) (11.7.1.2)\n",
      "Requirement already satisfied: nvidia-cusparse-cu12==12.5.4.2 in /home/ud/myenv/lib/python3.12/site-packages (from torch) (12.5.4.2)\n",
      "Requirement already satisfied: nvidia-cusparselt-cu12==0.6.3 in /home/ud/myenv/lib/python3.12/site-packages (from torch) (0.6.3)\n",
      "Requirement already satisfied: nvidia-nccl-cu12==2.26.2 in /home/ud/myenv/lib/python3.12/site-packages (from torch) (2.26.2)\n",
      "Requirement already satisfied: nvidia-nvtx-cu12==12.6.77 in /home/ud/myenv/lib/python3.12/site-packages (from torch) (12.6.77)\n",
      "Requirement already satisfied: nvidia-nvjitlink-cu12==12.6.85 in /home/ud/myenv/lib/python3.12/site-packages (from torch) (12.6.85)\n",
      "Requirement already satisfied: nvidia-cufile-cu12==1.11.1.6 in /home/ud/myenv/lib/python3.12/site-packages (from torch) (1.11.1.6)\n",
      "Requirement already satisfied: triton==3.3.0 in /home/ud/myenv/lib/python3.12/site-packages (from torch) (3.3.0)\n",
      "Requirement already satisfied: python-dateutil>=2.8.2 in /home/ud/myenv/lib/python3.12/site-packages (from pandas) (2.9.0.post0)\n",
      "Requirement already satisfied: pytz>=2020.1 in /home/ud/myenv/lib/python3.12/site-packages (from pandas) (2025.2)\n",
      "Requirement already satisfied: tzdata>=2022.7 in /home/ud/myenv/lib/python3.12/site-packages (from pandas) (2025.2)\n",
      "Requirement already satisfied: click in /home/ud/myenv/lib/python3.12/site-packages (from nltk) (8.2.0)\n",
      "Requirement already satisfied: joblib in /home/ud/myenv/lib/python3.12/site-packages (from nltk) (1.5.0)\n",
      "Requirement already satisfied: regex>=2021.8.3 in /home/ud/myenv/lib/python3.12/site-packages (from nltk) (2024.11.6)\n",
      "Requirement already satisfied: absl-py in /home/ud/myenv/lib/python3.12/site-packages (from rouge-score) (2.2.2)\n",
      "Requirement already satisfied: six>=1.14.0 in /home/ud/myenv/lib/python3.12/site-packages (from rouge-score) (1.17.0)\n",
      "Requirement already satisfied: huggingface-hub<1.0,>=0.30.0 in /home/ud/myenv/lib/python3.12/site-packages (from transformers) (0.31.4)\n",
      "Requirement already satisfied: packaging>=20.0 in /home/ud/myenv/lib/python3.12/site-packages (from transformers) (25.0)\n",
      "Requirement already satisfied: pyyaml>=5.1 in /home/ud/myenv/lib/python3.12/site-packages (from transformers) (6.0.2)\n",
      "Requirement already satisfied: requests in /home/ud/myenv/lib/python3.12/site-packages (from transformers) (2.32.3)\n",
      "Requirement already satisfied: tokenizers<0.22,>=0.21 in /home/ud/myenv/lib/python3.12/site-packages (from transformers) (0.21.1)\n",
      "Requirement already satisfied: safetensors>=0.4.3 in /home/ud/myenv/lib/python3.12/site-packages (from transformers) (0.5.3)\n",
      "Requirement already satisfied: scipy<1.14.0,>=1.7.0 in /home/ud/myenv/lib/python3.12/site-packages (from gensim) (1.13.1)\n",
      "Requirement already satisfied: smart-open>=1.8.1 in /home/ud/myenv/lib/python3.12/site-packages (from gensim) (7.1.0)\n",
      "Requirement already satisfied: contourpy>=1.0.1 in /home/ud/myenv/lib/python3.12/site-packages (from matplotlib) (1.3.2)\n",
      "Requirement already satisfied: cycler>=0.10 in /home/ud/myenv/lib/python3.12/site-packages (from matplotlib) (0.12.1)\n",
      "Requirement already satisfied: fonttools>=4.22.0 in /home/ud/myenv/lib/python3.12/site-packages (from matplotlib) (4.58.0)\n",
      "Requirement already satisfied: kiwisolver>=1.3.1 in /home/ud/myenv/lib/python3.12/site-packages (from matplotlib) (1.4.8)\n",
      "Requirement already satisfied: pillow>=8 in /home/ud/myenv/lib/python3.12/site-packages (from matplotlib) (11.2.1)\n",
      "Requirement already satisfied: pyparsing>=2.3.1 in /home/ud/myenv/lib/python3.12/site-packages (from matplotlib) (3.2.3)\n",
      "Requirement already satisfied: wrapt in /home/ud/myenv/lib/python3.12/site-packages (from smart-open>=1.8.1->gensim) (1.17.2)\n",
      "Requirement already satisfied: mpmath<1.4,>=1.1.0 in /home/ud/myenv/lib/python3.12/site-packages (from sympy>=1.13.3->torch) (1.3.0)\n",
      "Requirement already satisfied: MarkupSafe>=2.0 in /home/ud/myenv/lib/python3.12/site-packages (from jinja2->torch) (3.0.2)\n",
      "Requirement already satisfied: charset-normalizer<4,>=2 in /home/ud/myenv/lib/python3.12/site-packages (from requests->transformers) (3.4.2)\n",
      "Requirement already satisfied: idna<4,>=2.5 in /home/ud/myenv/lib/python3.12/site-packages (from requests->transformers) (3.10)\n",
      "Requirement already satisfied: urllib3<3,>=1.21.1 in /home/ud/myenv/lib/python3.12/site-packages (from requests->transformers) (2.4.0)\n",
      "Requirement already satisfied: certifi>=2017.4.17 in /home/ud/myenv/lib/python3.12/site-packages (from requests->transformers) (2025.4.26)\n",
      "Using device: cuda\n"
     ]
    }
   ],
   "source": [
    "!pip install torch numpy pandas nltk rouge-score transformers gensim tqdm matplotlib\n",
    "import torch\n",
    "import torch.nn as nn\n",
    "from torch.utils.data import Dataset, DataLoader\n",
    "from torch.optim import AdamW\n",
    "from transformers import BartTokenizer, BartForConditionalGeneration, get_linear_schedule_with_warmup\n",
    "import pandas as pd\n",
    "import numpy as np\n",
    "import re\n",
    "import nltk\n",
    "from nltk.corpus import stopwords\n",
    "from nltk.tokenize import sent_tokenize, word_tokenize\n",
    "import rouge_score\n",
    "from rouge_score import rouge_scorer\n",
    "import matplotlib.pyplot as plt\n",
    "from tqdm import tqdm\n",
    "import json\n",
    "import os\n",
    "import warnings\n",
    "warnings.filterwarnings('ignore')\n",
    "\n",
    "# Download required NLTK data\n",
    "try:\n",
    "    nltk.data.find('tokenizers/punkt')\n",
    "except LookupError:\n",
    "    nltk.download('punkt')\n",
    "\n",
    "try:\n",
    "    nltk.data.find('corpora/stopwords')\n",
    "except LookupError:\n",
    "    nltk.download('stopwords')\n",
    "\n",
    "# Set random seeds and device\n",
    "torch.manual_seed(42)\n",
    "np.random.seed(42)\n",
    "device = torch.device('cuda' if torch.cuda.is_available() else 'cpu')\n",
    "print(f\"Using device: {device}\")"
   ]
  },
  {
   "cell_type": "code",
   "execution_count": 7,
   "id": "9ddb50b3",
   "metadata": {},
   "outputs": [
    {
     "name": "stdout",
     "output_type": "stream",
     "text": [
      "Training dataframe shape: (287114, 3)\n",
      "Test dataframe shape: (11491, 3)\n",
      "Validation dataframe shape: (13369, 3)\n"
     ]
    }
   ],
   "source": [
    "train_df = pd.read_csv('../data/train.csv', header=None)\n",
    "test_df = pd.read_csv('../data/test.csv', header=None)\n",
    "val_df = pd.read_csv('../data/validation.csv', header=None)\n",
    "\n",
    "columns = ['id', 'article', 'summary']\n",
    "train_df.columns = columns\n",
    "test_df.columns = columns\n",
    "val_df.columns = columns\n",
    "\n",
    "def preprocess_text(text):\n",
    "    text = text.replace('\\n', ' ')\n",
    "    text = ' '.join(text.split())\n",
    "    return text\n",
    "\n",
    "def clean_article_heading(article):\n",
    "    pattern = r'By\\s*\\.\\s*.*?\\s*\\.\\s*PUBLISHED:\\s*\\.\\s*\\d+:\\d+\\s*EST,\\s*\\d+\\s*[A-Za-z]+\\s*\\d+\\s*\\.\\s*\\|\\s*\\.\\s*UPDATED:\\s*\\.\\s*\\d+:\\d+\\s*EST,\\s*\\d+\\s*[A-Za-z]+\\s*\\d+\\s*\\.'\n",
    "    cleaned_text = re.sub(pattern, '', article)\n",
    "    return cleaned_text.strip()\n",
    "\n",
    "train_df['article'] = train_df['article'].apply(preprocess_text)\n",
    "train_df['article'] = train_df['article'].apply(clean_article_heading)\n",
    "train_df['summary'] = train_df['summary'].apply(preprocess_text)\n",
    "test_df['article'] = test_df['article'].apply(preprocess_text)\n",
    "test_df['article'] = test_df['article'].apply(clean_article_heading)\n",
    "test_df['summary'] = test_df['summary'].apply(preprocess_text)\n",
    "val_df['article'] = val_df['article'].apply(preprocess_text)\n",
    "val_df['article'] = val_df['article'].apply(clean_article_heading)\n",
    "val_df['summary'] = val_df['summary'].apply(preprocess_text)\n",
    "\n",
    "print(f\"Training dataframe shape: {train_df.shape}\")\n",
    "print(f\"Test dataframe shape: {test_df.shape}\")\n",
    "print(f\"Validation dataframe shape: {val_df.shape}\")"
   ]
  },
  {
   "cell_type": "code",
   "execution_count": 8,
   "id": "7685b950",
   "metadata": {},
   "outputs": [],
   "source": [
    "train_df = train_df.sample(n=20000, random_state=42)\n",
    "test_df = test_df.sample(n=2000, random_state=42)\n",
    "val_df = val_df.sample(n=2000, random_state=42)"
   ]
  },
  {
   "cell_type": "code",
   "execution_count": 9,
   "id": "2dfe1c7f",
   "metadata": {},
   "outputs": [],
   "source": [
    "class NewsDataset(Dataset):\n",
    "    def __init__(self, articles, summaries, tokenizer, max_length=512):\n",
    "        self.articles = articles\n",
    "        self.summaries = summaries\n",
    "        self.tokenizer = tokenizer\n",
    "        self.max_length = max_length\n",
    "    \n",
    "    def __len__(self):\n",
    "        return len(self.articles)\n",
    "    \n",
    "    def __getitem__(self, idx):\n",
    "        article = str(self.articles[idx])\n",
    "        summary = str(self.summaries[idx])\n",
    "        \n",
    "        article_encoding = self.tokenizer(\n",
    "            article,\n",
    "            max_length=self.max_length,\n",
    "            padding='max_length',\n",
    "            truncation=True,\n",
    "            return_tensors='pt'\n",
    "        )\n",
    "        \n",
    "        summary_encoding = self.tokenizer(\n",
    "            summary,\n",
    "            max_length=128,\n",
    "            padding='max_length',\n",
    "            truncation=True,\n",
    "            return_tensors='pt'\n",
    "        )\n",
    "        \n",
    "        return {\n",
    "            'article_input_ids': article_encoding['input_ids'].flatten(),\n",
    "            'article_attention_mask': article_encoding['attention_mask'].flatten(),\n",
    "            'summary_input_ids': summary_encoding['input_ids'].flatten(),\n",
    "            'summary_attention_mask': summary_encoding['attention_mask'].flatten()\n",
    "        }"
   ]
  },
  {
   "cell_type": "code",
   "execution_count": 10,
   "id": "fdfc9e0e",
   "metadata": {},
   "outputs": [],
   "source": [
    "class SummarizationModel(nn.Module):\n",
    "    \"\"\"BART-based summarization model.\"\"\"\n",
    "    \n",
    "    def __init__(self, model_name='facebook/bart-base'):\n",
    "        super(SummarizationModel, self).__init__()\n",
    "        self.bart = BartForConditionalGeneration.from_pretrained(model_name)\n",
    "        \n",
    "    def forward(self, input_ids, attention_mask, labels=None):\n",
    "        outputs = self.bart(\n",
    "            input_ids=input_ids,\n",
    "            attention_mask=attention_mask,\n",
    "            labels=labels\n",
    "        )\n",
    "        return outputs\n",
    "\n",
    "def calculate_rouge_scores(predictions, references, rouge_scorer):\n",
    "    \"\"\"Calculate ROUGE scores.\"\"\"\n",
    "    rouge1_scores = []\n",
    "    rouge2_scores = []\n",
    "    rougeL_scores = []\n",
    "    \n",
    "    for pred, ref in zip(predictions, references):\n",
    "        scores = rouge_scorer.score(ref, pred)\n",
    "        rouge1_scores.append(scores['rouge1'].fmeasure)\n",
    "        rouge2_scores.append(scores['rouge2'].fmeasure)\n",
    "        rougeL_scores.append(scores['rougeL'].fmeasure)\n",
    "    \n",
    "    return {\n",
    "        'rouge1': np.mean(rouge1_scores),\n",
    "        'rouge2': np.mean(rouge2_scores),\n",
    "        'rougeL': np.mean(rougeL_scores)\n",
    "    }\n",
    "\n",
    "def train_epoch(model, dataloader, optimizer, scheduler, device):\n",
    "    \"\"\"Train for one epoch.\"\"\"\n",
    "    model.train()\n",
    "    total_loss = 0\n",
    "    \n",
    "    for batch in tqdm(dataloader, desc=\"Training\"):\n",
    "        # Move batch to device\n",
    "        input_ids = batch['article_input_ids'].to(device)\n",
    "        attention_mask = batch['article_attention_mask'].to(device)\n",
    "        labels = batch['summary_input_ids'].to(device)\n",
    "        \n",
    "        # Zero gradients\n",
    "        optimizer.zero_grad()\n",
    "        \n",
    "        # Forward pass\n",
    "        outputs = model(\n",
    "            input_ids=input_ids,\n",
    "            attention_mask=attention_mask,\n",
    "            labels=labels\n",
    "        )\n",
    "        \n",
    "        loss = outputs.loss\n",
    "        total_loss += loss.item()\n",
    "        \n",
    "        # Backward pass\n",
    "        loss.backward()\n",
    "        \n",
    "        # Gradient clipping\n",
    "        torch.nn.utils.clip_grad_norm_(model.parameters(), max_norm=1.0)\n",
    "        \n",
    "        # Update weights\n",
    "        optimizer.step()\n",
    "        scheduler.step()\n",
    "    \n",
    "    return total_loss / len(dataloader)\n",
    "\n",
    "def evaluate_model(model, dataloader, tokenizer, device, rouge_scorer_obj):\n",
    "    \"\"\"Evaluate the model.\"\"\"\n",
    "    model.eval()\n",
    "    total_loss = 0\n",
    "    predictions = []\n",
    "    references = []\n",
    "    \n",
    "    with torch.no_grad():\n",
    "        for batch in tqdm(dataloader, desc=\"Evaluating\"):\n",
    "            input_ids = batch['article_input_ids'].to(device)\n",
    "            attention_mask = batch['article_attention_mask'].to(device)\n",
    "            labels = batch['summary_input_ids'].to(device)\n",
    "            \n",
    "            # Forward pass\n",
    "            outputs = model(\n",
    "                input_ids=input_ids,\n",
    "                attention_mask=attention_mask,\n",
    "                labels=labels\n",
    "            )\n",
    "            \n",
    "            total_loss += outputs.loss.item()\n",
    "            \n",
    "            # Generate summaries\n",
    "            generated_ids = model.bart.generate(\n",
    "                input_ids=input_ids,\n",
    "                attention_mask=attention_mask,\n",
    "                max_length=150,\n",
    "                num_beams=4,\n",
    "                early_stopping=True\n",
    "            )\n",
    "            \n",
    "            # Decode predictions and references\n",
    "            for i in range(len(generated_ids)):\n",
    "                pred = tokenizer.decode(generated_ids[i], skip_special_tokens=True)\n",
    "                ref = tokenizer.decode(labels[i], skip_special_tokens=True)\n",
    "                \n",
    "                predictions.append(pred)\n",
    "                references.append(ref)\n",
    "    \n",
    "    # Calculate ROUGE scores\n",
    "    rouge_scores = calculate_rouge_scores(predictions, references, rouge_scorer_obj)\n",
    "    \n",
    "    return total_loss / len(dataloader), rouge_scores\n",
    "\n",
    "def train_model(model, train_dataloader, val_dataloader, tokenizer, device, num_epochs=3, learning_rate=5e-5):\n",
    "    \"\"\"Train the model.\"\"\"\n",
    "    # Initialize ROUGE scorer\n",
    "    rouge_scorer_obj = rouge_scorer.RougeScorer(['rouge1', 'rouge2', 'rougeL'], use_stemmer=True)\n",
    "    \n",
    "    # Setup optimizer and scheduler\n",
    "    optimizer = AdamW(model.parameters(), lr=learning_rate)\n",
    "    total_steps = len(train_dataloader) * num_epochs\n",
    "    scheduler = get_linear_schedule_with_warmup(\n",
    "        optimizer,\n",
    "        num_warmup_steps=0,\n",
    "        num_training_steps=total_steps\n",
    "    )\n",
    "    \n",
    "    # Training loop\n",
    "    train_losses = []\n",
    "    val_losses = []\n",
    "    rouge_scores_history = []\n",
    "    \n",
    "    for epoch in range(num_epochs):\n",
    "        print(f\"\\nEpoch {epoch + 1}/{num_epochs}\")\n",
    "        \n",
    "        # Train\n",
    "        train_loss = train_epoch(model, train_dataloader, optimizer, scheduler, device)\n",
    "        train_losses.append(train_loss)\n",
    "        \n",
    "        # Evaluate\n",
    "        val_loss, rouge_scores = evaluate_model(model, val_dataloader, tokenizer, device, rouge_scorer_obj)\n",
    "        val_losses.append(val_loss)\n",
    "        rouge_scores_history.append(rouge_scores)\n",
    "        \n",
    "        print(f\"Train Loss: {train_loss:.4f}\")\n",
    "        print(f\"Val Loss: {val_loss:.4f}\")\n",
    "        print(f\"ROUGE-1: {rouge_scores['rouge1']:.4f}\")\n",
    "        print(f\"ROUGE-2: {rouge_scores['rouge2']:.4f}\")\n",
    "        print(f\"ROUGE-L: {rouge_scores['rougeL']:.4f}\")\n",
    "    \n",
    "    return train_losses, val_losses, rouge_scores_history"
   ]
  },
  {
   "cell_type": "code",
   "execution_count": 11,
   "id": "82acc542",
   "metadata": {},
   "outputs": [],
   "source": [
    "tokenizer_large = BartTokenizer.from_pretrained('facebook/bart-large')\n",
    "model_large = SummarizationModel('facebook/bart-large')\n",
    "model_large = model_large.to(device)\n",
    "\n",
    "train_dataset_large = NewsDataset(\n",
    "    train_df['article'].values,\n",
    "    train_df['summary'].values,\n",
    "    tokenizer_large\n",
    ")\n",
    "\n",
    "val_dataset_large = NewsDataset(\n",
    "    val_df['article'].values,\n",
    "    val_df['summary'].values,\n",
    "    tokenizer_large\n",
    ")\n",
    "\n",
    "test_dataset_large = NewsDataset(\n",
    "    test_df['article'].values,\n",
    "    test_df['summary'].values,\n",
    "    tokenizer_large\n",
    ")\n",
    "\n",
    "train_loader_large = DataLoader(train_dataset_large, batch_size=8, shuffle=True)\n",
    "val_loader_large = DataLoader(val_dataset_large, batch_size=8, shuffle=False)\n",
    "test_loader_large = DataLoader(test_dataset_large, batch_size=8, shuffle=False)"
   ]
  },
  {
   "cell_type": "code",
   "execution_count": 12,
   "id": "60c3c0ab",
   "metadata": {},
   "outputs": [
    {
     "name": "stdout",
     "output_type": "stream",
     "text": [
      "\n",
      "Starting BART-large training process:\n",
      "\n",
      "Epoch 1/9\n"
     ]
    },
    {
     "name": "stderr",
     "output_type": "stream",
     "text": [
      "Training: 100%|██████████| 2500/2500 [10:26<00:00,  3.99it/s]\n",
      "Evaluating: 100%|██████████| 250/250 [05:40<00:00,  1.36s/it]\n"
     ]
    },
    {
     "name": "stdout",
     "output_type": "stream",
     "text": [
      "Train Loss: 1.1926\n",
      "Val Loss: 0.9322\n",
      "ROUGE-1: 0.4309\n",
      "ROUGE-2: 0.2024\n",
      "ROUGE-L: 0.2929\n",
      "\n",
      "Epoch 2/9\n"
     ]
    },
    {
     "name": "stderr",
     "output_type": "stream",
     "text": [
      "Training: 100%|██████████| 2500/2500 [10:29<00:00,  3.97it/s]\n",
      "Evaluating: 100%|██████████| 250/250 [05:10<00:00,  1.24s/it]\n"
     ]
    },
    {
     "name": "stdout",
     "output_type": "stream",
     "text": [
      "Train Loss: 0.8540\n",
      "Val Loss: 0.9126\n",
      "ROUGE-1: 0.4316\n",
      "ROUGE-2: 0.2039\n",
      "ROUGE-L: 0.2971\n",
      "\n",
      "Epoch 3/9\n"
     ]
    },
    {
     "name": "stderr",
     "output_type": "stream",
     "text": [
      "Training: 100%|██████████| 2500/2500 [10:25<00:00,  3.99it/s]\n",
      "Evaluating: 100%|██████████| 250/250 [05:50<00:00,  1.40s/it]\n"
     ]
    },
    {
     "name": "stdout",
     "output_type": "stream",
     "text": [
      "Train Loss: 0.7687\n",
      "Val Loss: 0.9213\n",
      "ROUGE-1: 0.4350\n",
      "ROUGE-2: 0.2070\n",
      "ROUGE-L: 0.2974\n",
      "\n",
      "Epoch 4/9\n"
     ]
    },
    {
     "name": "stderr",
     "output_type": "stream",
     "text": [
      "Training: 100%|██████████| 2500/2500 [10:21<00:00,  4.02it/s]\n",
      "Evaluating: 100%|██████████| 250/250 [04:47<00:00,  1.15s/it]\n"
     ]
    },
    {
     "name": "stdout",
     "output_type": "stream",
     "text": [
      "Train Loss: 0.6990\n",
      "Val Loss: 0.9360\n",
      "ROUGE-1: 0.4315\n",
      "ROUGE-2: 0.2046\n",
      "ROUGE-L: 0.3000\n",
      "\n",
      "Epoch 5/9\n"
     ]
    },
    {
     "name": "stderr",
     "output_type": "stream",
     "text": [
      "Training: 100%|██████████| 2500/2500 [10:26<00:00,  3.99it/s]\n",
      "Evaluating: 100%|██████████| 250/250 [05:15<00:00,  1.26s/it]\n"
     ]
    },
    {
     "name": "stdout",
     "output_type": "stream",
     "text": [
      "Train Loss: 0.6420\n",
      "Val Loss: 0.9522\n",
      "ROUGE-1: 0.4359\n",
      "ROUGE-2: 0.2072\n",
      "ROUGE-L: 0.3019\n",
      "\n",
      "Epoch 6/9\n"
     ]
    },
    {
     "name": "stderr",
     "output_type": "stream",
     "text": [
      "Training: 100%|██████████| 2500/2500 [10:23<00:00,  4.01it/s]\n",
      "Evaluating: 100%|██████████| 250/250 [05:01<00:00,  1.20s/it]\n"
     ]
    },
    {
     "name": "stdout",
     "output_type": "stream",
     "text": [
      "Train Loss: 0.5933\n",
      "Val Loss: 0.9746\n",
      "ROUGE-1: 0.4314\n",
      "ROUGE-2: 0.2032\n",
      "ROUGE-L: 0.3002\n",
      "\n",
      "Epoch 7/9\n"
     ]
    },
    {
     "name": "stderr",
     "output_type": "stream",
     "text": [
      "Training: 100%|██████████| 2500/2500 [10:22<00:00,  4.02it/s]\n",
      "Evaluating: 100%|██████████| 250/250 [05:28<00:00,  1.31s/it]\n"
     ]
    },
    {
     "name": "stdout",
     "output_type": "stream",
     "text": [
      "Train Loss: 0.5547\n",
      "Val Loss: 0.9891\n",
      "ROUGE-1: 0.4359\n",
      "ROUGE-2: 0.2051\n",
      "ROUGE-L: 0.2999\n",
      "\n",
      "Epoch 8/9\n"
     ]
    },
    {
     "name": "stderr",
     "output_type": "stream",
     "text": [
      "Training: 100%|██████████| 2500/2500 [10:24<00:00,  4.00it/s]\n",
      "Evaluating: 100%|██████████| 250/250 [05:21<00:00,  1.29s/it]\n"
     ]
    },
    {
     "name": "stdout",
     "output_type": "stream",
     "text": [
      "Train Loss: 0.5244\n",
      "Val Loss: 1.0067\n",
      "ROUGE-1: 0.4381\n",
      "ROUGE-2: 0.2063\n",
      "ROUGE-L: 0.3013\n",
      "\n",
      "Epoch 9/9\n"
     ]
    },
    {
     "name": "stderr",
     "output_type": "stream",
     "text": [
      "Training: 100%|██████████| 2500/2500 [10:22<00:00,  4.01it/s]\n",
      "Evaluating: 100%|██████████| 250/250 [05:19<00:00,  1.28s/it]\n"
     ]
    },
    {
     "name": "stdout",
     "output_type": "stream",
     "text": [
      "Train Loss: 0.5037\n",
      "Val Loss: 1.0203\n",
      "ROUGE-1: 0.4394\n",
      "ROUGE-2: 0.2078\n",
      "ROUGE-L: 0.3036\n",
      "\n",
      "Saving the BART-large model...\n",
      "Model saved to best_bart_large_summarization_model.pth\n"
     ]
    }
   ],
   "source": [
    "print(\"\\nStarting BART-large training process:\")\n",
    "train_losses_large, val_losses_large, rouge_scores_history_large = train_model(\n",
    "    model_large, \n",
    "    train_loader_large, \n",
    "    val_loader_large, \n",
    "    tokenizer_large, \n",
    "    device, \n",
    "    num_epochs=9,\n",
    "    learning_rate=2e-5 \n",
    ")\n",
    "\n",
    "print(\"\\nSaving the BART-large model...\")\n",
    "model_save_path_large = 'best_bart_large_summarization_model.pth'\n",
    "torch.save({\n",
    "    'model_state_dict': model_large.state_dict(),\n",
    "    'tokenizer': tokenizer_large,\n",
    "    'training_history': {\n",
    "        'train_losses': train_losses_large,\n",
    "        'val_losses': val_losses_large,\n",
    "        'rouge_scores': rouge_scores_history_large\n",
    "    }\n",
    "}, model_save_path_large)\n",
    "print(f\"Model saved to {model_save_path_large}\")"
   ]
  },
  {
   "cell_type": "code",
   "execution_count": 14,
   "id": "4ada7aab",
   "metadata": {},
   "outputs": [],
   "source": [
    "def plot_training_history(train_losses, val_losses, rouge_scores_history):\n",
    "    \"\"\"Plot training history.\"\"\"\n",
    "    fig, axes = plt.subplots(2, 2, figsize=(15, 10))\n",
    "    \n",
    "    # Loss plots\n",
    "    axes[0, 0].plot(train_losses, label='Train Loss')\n",
    "    axes[0, 0].plot(val_losses, label='Validation Loss')\n",
    "    axes[0, 0].set_title('Training and Validation Loss')\n",
    "    axes[0, 0].set_xlabel('Epoch')\n",
    "    axes[0, 0].set_ylabel('Loss')\n",
    "    axes[0, 0].legend()\n",
    "    axes[0, 0].grid(True)\n",
    "    \n",
    "    # ROUGE scores\n",
    "    rouge1_scores = [scores['rouge1'] for scores in rouge_scores_history]\n",
    "    rouge2_scores = [scores['rouge2'] for scores in rouge_scores_history]\n",
    "    rougeL_scores = [scores['rougeL'] for scores in rouge_scores_history]\n",
    "    \n",
    "    axes[0, 1].plot(rouge1_scores, label='ROUGE-1', marker='o')\n",
    "    axes[0, 1].plot(rouge2_scores, label='ROUGE-2', marker='s')\n",
    "    axes[0, 1].plot(rougeL_scores, label='ROUGE-L', marker='^')\n",
    "    axes[0, 1].set_title('ROUGE Scores')\n",
    "    axes[0, 1].set_xlabel('Epoch')\n",
    "    axes[0, 1].set_ylabel('ROUGE Score')\n",
    "    axes[0, 1].legend()\n",
    "    axes[0, 1].grid(True)\n",
    "    \n",
    "    # Final ROUGE scores bar plot\n",
    "    final_scores = rouge_scores_history[-1]\n",
    "    rouge_types = list(final_scores.keys())\n",
    "    scores = list(final_scores.values())\n",
    "    \n",
    "    axes[1, 0].bar(rouge_types, scores, color=['blue', 'green', 'red'])\n",
    "    axes[1, 0].set_title('Final ROUGE Scores')\n",
    "    axes[1, 0].set_ylabel('Score')\n",
    "    axes[1, 0].grid(True, axis='y')\n",
    "    \n",
    "    # Learning curve\n",
    "    epochs = range(1, len(train_losses) + 1)\n",
    "    axes[1, 1].plot(epochs, train_losses, 'b-', label='Training Loss')\n",
    "    axes[1, 1].plot(epochs, val_losses, 'r-', label='Validation Loss')\n",
    "    axes[1, 1].set_title('Learning Curve')\n",
    "    axes[1, 1].set_xlabel('Epoch')\n",
    "    axes[1, 1].set_ylabel('Loss')\n",
    "    axes[1, 1].legend()\n",
    "    axes[1, 1].grid(True)\n",
    "    \n",
    "    plt.tight_layout()\n",
    "    plt.show()\n",
    "\n",
    "def generate_summary(model, tokenizer, article, device, max_length=150):\n",
    "    \"\"\"Generate summary for a single article.\"\"\"\n",
    "    model.eval()\n",
    "    \n",
    "    # Tokenize article\n",
    "    inputs = tokenizer(\n",
    "        article,\n",
    "        truncation=True,\n",
    "        padding=True,\n",
    "        max_length=512,\n",
    "        return_tensors='pt'\n",
    "    ).to(device)\n",
    "    \n",
    "    # Generate summary\n",
    "    with torch.no_grad():\n",
    "        summary_ids = model.bart.generate(\n",
    "            input_ids=inputs['input_ids'],\n",
    "            attention_mask=inputs['attention_mask'],\n",
    "            max_length=max_length,\n",
    "            num_beams=4,\n",
    "            early_stopping=True\n",
    "        )\n",
    "    \n",
    "    # Decode summary\n",
    "    summary = tokenizer.decode(summary_ids[0], skip_special_tokens=True)\n",
    "    return summary"
   ]
  },
  {
   "cell_type": "code",
   "execution_count": 15,
   "id": "8ef9b0b2",
   "metadata": {},
   "outputs": [
    {
     "name": "stdout",
     "output_type": "stream",
     "text": [
      "\n",
      "Plotting BART-large training history...\n"
     ]
    },
    {
     "data": {
      "image/png": "[encoded data removed]",
      "text/plain": [
       "<Figure size 1500x1000 with 4 Axes>"
      ]
     },
     "metadata": {},
     "output_type": "display_data"
    }
   ],
   "source": [
    "print(\"\\nPlotting BART-large training history...\")\n",
    "plot_training_history(train_losses_large, val_losses_large, rouge_scores_history_large)"
   ]
  },
  {
   "cell_type": "code",
   "execution_count": 16,
   "id": "7b114772",
   "metadata": {},
   "outputs": [
    {
     "name": "stdout",
     "output_type": "stream",
     "text": [
      "\n",
      "Performing final evaluation on test data with BART-large\n"
     ]
    },
    {
     "name": "stderr",
     "output_type": "stream",
     "text": [
      "Evaluating: 100%|██████████| 250/250 [05:19<00:00,  1.28s/it]\n"
     ]
    },
    {
     "name": "stdout",
     "output_type": "stream",
     "text": [
      "\n",
      "Final Test Results (BART-large):\n",
      "Test Loss: 0.9685\n",
      "\n",
      "ROUGE Scores:\n",
      "rouge1: 0.432995\n",
      "rouge2: 0.202479\n",
      "rougeL: 0.297991\n"
     ]
    }
   ],
   "source": [
    "print(\"\\nPerforming final evaluation on test data with BART-large\")\n",
    "rouge_scorer_obj = rouge_scorer.RougeScorer(['rouge1', 'rouge2', 'rougeL'], use_stemmer=True)\n",
    "test_loss_large, test_rouge_scores_large = evaluate_model(\n",
    "    model_large, \n",
    "    test_loader_large, \n",
    "    tokenizer_large, \n",
    "    device, \n",
    "    rouge_scorer_obj\n",
    ")\n",
    "\n",
    "print(\"\\nFinal Test Results (BART-large):\")\n",
    "print(f\"Test Loss: {test_loss_large:.4f}\")\n",
    "print(\"\\nROUGE Scores:\")\n",
    "for metric, score in test_rouge_scores_large.items():\n",
    "    print(f\"{metric}: {score:.6f}\")"
   ]
  },
  {
   "cell_type": "code",
   "execution_count": null,
   "id": "8aa1eabc",
   "metadata": {},
   "outputs": [],
   "source": [
    "print(\"\\nBART-large Summarization Examples:\")\n",
    "sample_indices = [0, 1, 2]\n",
    "\n",
    "for i in sample_indices:\n",
    "    article = test_articles[i]\n",
    "    actual_summary = test_summaries[i]\n",
    "    generated_summary = generate_summary(model_large, tokenizer_large, article, device)\n",
    "    \n",
    "    print(f\"\\n=== Example {i+1} ===\")\n",
    "    print(f\"\\nOriginal Article (first 200 chars):\\n{article[:200]}...\")\n",
    "    print(f\"\\nActual Summary:\\n{actual_summary}\")\n",
    "    print(f\"\\nGenerated Summary (BART-large):\\n{generated_summary}\")\n",
    "    \n",
    "    # Calculate ROUGE scores\n",
    "    scores = rouge_scorer_obj.score(actual_summary, generated_summary)\n",
    "    \n",
    "    print(\"\\nROUGE Scores:\")\n",
    "    print(f\"ROUGE-1: {scores['rouge1'].fmeasure:.4f}\")\n",
    "    print(f\"ROUGE-2: {scores['rouge2'].fmeasure:.4f}\")\n",
    "    print(f\"ROUGE-L: {scores['rougeL'].fmeasure:.4f}\")\n",
    "    print(\"=\"*50)"
   ]
  }
 ],
 "metadata": {
  "kernelspec": {
   "display_name": "Python (myenv)",
   "language": "python",
   "name": "myenv"
  },
  "language_info": {
   "codemirror_mode": {
    "name": "ipython",
    "version": 3
   },
   "file_extension": ".py",
   "mimetype": "text/x-python",
   "name": "python",
   "nbconvert_exporter": "python",
   "pygments_lexer": "ipython3",
   "version": "3.12.3"
  }
 },
 "nbformat": 4,
 "nbformat_minor": 5
}
