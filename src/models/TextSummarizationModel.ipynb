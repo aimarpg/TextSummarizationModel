{
 "cells": [
  {
   "cell_type": "markdown",
   "id": "4aac813a",
   "metadata": {},
   "source": [
    "### DEEP LEARNING"
   ]
  },
  {
   "cell_type": "markdown",
   "id": "1f2eec05",
   "metadata": {},
   "source": [
    "# **TEXT SUMMARIZATION MODEL**"
   ]
  },
  {
   "cell_type": "markdown",
   "id": "7ccd032a",
   "metadata": {},
   "source": [
    "**IMPORTS**"
   ]
  },
  {
   "cell_type": "code",
   "execution_count": 1,
   "id": "69f93717",
   "metadata": {},
   "outputs": [
    {
     "name": "stderr",
     "output_type": "stream",
     "text": [
      "/opt/anaconda3/envs/dl/lib/python3.12/site-packages/tqdm/auto.py:21: TqdmWarning: IProgress not found. Please update jupyter and ipywidgets. See https://ipywidgets.readthedocs.io/en/stable/user_install.html\n",
      "  from .autonotebook import tqdm as notebook_tqdm\n"
     ]
    },
    {
     "name": "stdout",
     "output_type": "stream",
     "text": [
      "Using device: cpu\n"
     ]
    }
   ],
   "source": [
    "import pandas as pd\n",
    "import numpy as np\n",
    "import torch\n",
    "import torch.nn as nn\n",
    "from torch.utils.data import Dataset, DataLoader\n",
    "from transformers import BertTokenizer\n",
    "import torch.nn.functional as F\n",
    "import ast\n",
    "import re\n",
    "import torch.optim as optim\n",
    "from tqdm import tqdm\n",
    "import copy\n",
    "from rouge_score import rouge_scorer\n",
    "\n",
    "torch.manual_seed(42)\n",
    "np.random.seed(42)\n",
    "device = torch.device('cuda' if torch.cuda.is_available() else 'cpu')\n",
    "print(f\"Using device: {device}\")"
   ]
  },
  {
   "cell_type": "markdown",
   "id": "3a50cf12",
   "metadata": {},
   "source": [
    "**DATA LOADING AND PREPROCESSING**"
   ]
  },
  {
   "cell_type": "code",
   "execution_count": 11,
   "id": "ed5068e8",
   "metadata": {},
   "outputs": [
    {
     "name": "stdout",
     "output_type": "stream",
     "text": [
      "Training dataframe shape: (287114, 3)\n",
      "Test dataframe shape: (11491, 3)\n",
      "Validation dataframe shape: (13369, 3)\n"
     ]
    }
   ],
   "source": [
    "train_df = pd.read_csv('../data/train.csv', header=None)\n",
    "test_df = pd.read_csv('../data/test.csv', header=None)\n",
    "val_df = pd.read_csv('../data/validation.csv', header=None)\n",
    "\n",
    "columns = ['id', 'article', 'summary']\n",
    "train_df.columns = columns\n",
    "test_df.columns = columns\n",
    "val_df.columns = columns\n",
    "\n",
    "def preprocess_text(text):\n",
    "    text = text.replace('\\n', ' ')\n",
    "    text = ' '.join(text.split())\n",
    "    return text\n",
    "\n",
    "def clean_article_heading(article):\n",
    "    pattern = r'By\\s*\\.\\s*.*?\\s*\\.\\s*PUBLISHED:\\s*\\.\\s*\\d+:\\d+\\s*EST,\\s*\\d+\\s*[A-Za-z]+\\s*\\d+\\s*\\.\\s*\\|\\s*\\.\\s*UPDATED:\\s*\\.\\s*\\d+:\\d+\\s*EST,\\s*\\d+\\s*[A-Za-z]+\\s*\\d+\\s*\\.'\n",
    "    cleaned_text = re.sub(pattern, '', article)\n",
    "    return cleaned_text.strip()\n",
    "\n",
    "train_df['article'] = train_df['article'].apply(preprocess_text)\n",
    "train_df['article'] = train_df['article'].apply(clean_article_heading)\n",
    "train_df['summary'] = train_df['summary'].apply(preprocess_text)\n",
    "test_df['article'] = test_df['article'].apply(preprocess_text)\n",
    "test_df['article'] = test_df['article'].apply(clean_article_heading)\n",
    "test_df['summary'] = test_df['summary'].apply(preprocess_text)\n",
    "val_df['article'] = val_df['article'].apply(preprocess_text)\n",
    "val_df['article'] = val_df['article'].apply(clean_article_heading)\n",
    "val_df['summary'] = val_df['summary'].apply(preprocess_text)\n",
    "\n",
    "tokenizer = BertTokenizer.from_pretrained('bert-base-uncased')\n",
    "\n",
    "print(f\"Training dataframe shape: {train_df.shape}\")\n",
    "print(f\"Test dataframe shape: {test_df.shape}\")\n",
    "print(f\"Validation dataframe shape: {val_df.shape}\")"
   ]
  },
  {
   "cell_type": "markdown",
   "id": "db5c5a24",
   "metadata": {},
   "source": [
    "**Amount reduction for training time optimization**"
   ]
  },
  {
   "cell_type": "code",
   "execution_count": 12,
   "id": "cfd28a3c",
   "metadata": {},
   "outputs": [],
   "source": [
    "train_df = train_df.sample(n=50000, random_state=42)\n",
    "test_df = test_df.sample(n=5000, random_state=42)\n",
    "val_df = val_df.sample(n=5000, random_state=42)"
   ]
  },
  {
   "cell_type": "code",
   "execution_count": 13,
   "id": "2a12c0cb",
   "metadata": {},
   "outputs": [
    {
     "name": "stdout",
     "output_type": "stream",
     "text": [
      "023b9cf4dfeca75635957a73408fde39705c9d4f\n",
      "By . James Rush . A father-of-two left his wedding ring and watch to give to his children in case something happened to him before boarding the missing Malaysia Airlines flight as he flew out to start a dream job in Mongolia. Mechanical engineer Paul Weeks, 39, of Perth, Australia, was on the flight as he made his way to his first shift in a fly-in fly-out job. His wife Danica has revealed how he left the objects with her to give to their two boys if something was to happen to him. Father-of-two Paul Weeks was on board the missing flight MH370 as he flew out to Mongolia to start a dream job . Mrs Weeks however said on Sunday that she was praying for a miracle as she waited for news of him. She told 9News National in Perth: '(He said) \"If something should happen to me then the wedding ring should go to the first son that gets married and then the watch to the second\".' The former soldier, who was born in New Zealand, moved his young family to Perth after their home in Christchurch was devastated by earthquakes. The couple have a three-year-old son called Lincoln and an 11-month-old called Jack. Mr Weeks was believed to have got a new job with Transwest Mongolia. Mrs Weeks said before he left he took 'lots of photos' of his family. She told WA Today: 'I can’t give up hope. I would love him to walk through that door, hold him one more time ... I see him everywhere in the house.' Mr Weeks's wife Danica has said her husband left his wedding ring and watch in case something happened to him . Mrs Weeks has said she 'can't give up hope' after the Malaysia Airlines flight went missing early Saturday morning . Mr Weeks was one of 227 passengers and 12 crew members on board the Malaysia Airlines flight which went missing early Saturday morning as it made its way from Kuala Lumpur to Beijing. The manifest included 152 passengers from China, 38 from Malaysia, seven from Indonesia, six from Australia, five from India, three from the U.S., and others from Indonesia, France, New Zealand, Canada, Ukraine, Russia, Taiwan and the Netherlands. A mid-air explosion: The lack of debris could be explained by it falling into Malaysian jungle . A terrorist attack: Director of CIA has said terrorism could not be ruled out . Power failure: Possibly caused by deliberate cutting of power to communication instruments . Electronic warfare: 20 passengers on board were experts in this technology. Hijacking: Radar data indicates the plane might have made a U-turn. A pilot error: There is a chance of them in all air mysteries, claim experts . Structural failure: Possibly involving damage sustained by an accident in 2012 . Pilot suicide: There were two large jet crashes in the late 1990s caused by this . Aeronautical black hole: Plane is stranded hundreds of miles from current search area . Among those travelling on the flight was a group of eight Chinese and 12 Malaysian employees of Austin, Texas, semiconductor company Freescale, which said it was assembling 'around-the-clock support' for their families. For seasoned Australian travellers Robert Lawton, 58, and his wife, Catherine, 54, the seemingly routine takeoff of flight MH370 was the beginning of another adventure. Sharing their adventure was another 50-something Australian couple, Rodney and Mary Burrows. Neighbor Don Stokes said the trip was intended as the beginning of the 'next step in their life'. Among the family groups on board were teenage sweethearts Hadrien Wattrelos, 17, and Zhao Yan, 18, students at a French school in Beijing who were returning from the Malaysian leg of a two-week holiday along with Hadrien's mother and younger sister. In December, Zhao changed her Facebook profile photo to one of her and Hadrien. He had commented: 'Je t'aime,' followed by a heart, and she had 'liked' his comment. Some boarded the plane with more serious purposes in mind. Colleagues of Chandrika Sharma said the 50-year-old director of the Chennai chapter of an organization that works with fishermen was on her way from the southern Indian city to Mongolia for a Food and Agriculture Organization conference. More than three days after the Boeing 777 disappeared, no trace of the plane has been found in waters between Malaysia and Vietnam that have been scoured by more than 40 planes and ships from at least 10 nations. Catherine and Robert Lawton, from Brisbane, were named as one of three couples from Australia who were missing . French teenagers Zhao Yan and Hadrien Wattrelos had enrolled together at the Lycee Francais International de Pekin. Both are believed to have been on board . The plane dropped off radar less than an hour into the flight without sending out a distress signal. Authorities have said it may have attempted to turn back to Kuala Lumpur, but they expressed surprise that it would do so without informing ground control. Malaysia Airlines has said in a statement that search and rescue teams expanded their scope to the Malacca Strait between Malaysia's western coast and Indonesia's Sumatra island - the opposite side of Malaysia from the plane's last known location. To reach the strait, a busy shipping lane, the plane would have had to cross over the country, presumably within the range of radar. An earlier statement said the western coast of Malaysia was 'now the focus', but the airline subsequently said that phrase was an oversight. It did not elaborate. Civil aviation chief Azharuddin Abdul Rahman said the search remained 'on both sides' of the country.\n",
      "Paul Weeks was on the missing flight as he made his way to new job . Before leaving he had taken 'lots of photos' of his family, his wife has said . She said he left her his wedding ring and watch in case something happened . She has said she 'can't give up hope... I would love him to walk through that door'\n",
      "(50000, 3)\n",
      "(5000, 3)\n",
      "(5000, 3)\n"
     ]
    }
   ],
   "source": [
    "print(train_df['id'].iloc[1])\n",
    "print(train_df['article'].iloc[1])\n",
    "print(train_df['summary'].iloc[1])\n",
    "print(train_df.shape)\n",
    "print(val_df.shape)\n",
    "print(test_df.shape)"
   ]
  },
  {
   "cell_type": "markdown",
   "id": "6767ea80",
   "metadata": {},
   "source": [
    "**CUSTOM DATASET**"
   ]
  },
  {
   "cell_type": "code",
   "execution_count": 14,
   "id": "c6d3f8be",
   "metadata": {},
   "outputs": [
    {
     "name": "stdout",
     "output_type": "stream",
     "text": [
      "Training samples: 50000\n",
      "Validation samples: 5000\n",
      "Testing samples: 5000\n"
     ]
    }
   ],
   "source": [
    "class NewsDataset(Dataset):\n",
    "    def __init__(self, articles, summaries, tokenizer, max_length=512):\n",
    "        self.articles = articles\n",
    "        self.summaries = summaries\n",
    "        self.tokenizer = tokenizer\n",
    "        self.max_length = max_length\n",
    "    \n",
    "    def __len__(self):\n",
    "        return len(self.articles)\n",
    "    \n",
    "    def __getitem__(self, idx):\n",
    "        article = str(self.articles[idx])\n",
    "        summary = str(self.summaries[idx])\n",
    "        \n",
    "        article_encoding = self.tokenizer(\n",
    "            article,\n",
    "            max_length=self.max_length,\n",
    "            padding='max_length',\n",
    "            truncation=True,\n",
    "            return_tensors='pt'\n",
    "        )\n",
    "        \n",
    "        summary_encoding = self.tokenizer(\n",
    "            summary,\n",
    "            max_length=128,\n",
    "            padding='max_length',\n",
    "            truncation=True,\n",
    "            return_tensors='pt'\n",
    "        )\n",
    "        \n",
    "        return {\n",
    "            'article_input_ids': article_encoding['input_ids'].flatten(),\n",
    "            'article_attention_mask': article_encoding['attention_mask'].flatten(),\n",
    "            'summary_input_ids': summary_encoding['input_ids'].flatten(),\n",
    "            'summary_attention_mask': summary_encoding['attention_mask'].flatten()\n",
    "        }\n",
    "\n",
    "train_dataset = NewsDataset(\n",
    "    train_df['article'].values,\n",
    "    train_df['summary'].values,\n",
    "    tokenizer\n",
    ")\n",
    "\n",
    "val_dataset = NewsDataset(\n",
    "    val_df['article'].values,\n",
    "    val_df['summary'].values,\n",
    "    tokenizer\n",
    ")\n",
    "\n",
    "test_dataset = NewsDataset(\n",
    "    test_df['article'].values,\n",
    "    test_df['summary'].values,\n",
    "    tokenizer\n",
    ")\n",
    "\n",
    "# Create data loaders\n",
    "train_loader = DataLoader(train_dataset, batch_size=8, shuffle=True)\n",
    "val_loader = DataLoader(val_dataset, batch_size=8, shuffle=False)\n",
    "test_loader = DataLoader(test_dataset, batch_size=8, shuffle=False)\n",
    "\n",
    "print(f\"Training samples: {len(train_dataset)}\")\n",
    "print(f\"Validation samples: {len(val_dataset)}\")\n",
    "print(f\"Testing samples: {len(test_dataset)}\")"
   ]
  },
  {
   "cell_type": "markdown",
   "id": "dc8b03b6",
   "metadata": {},
   "source": [
    "**MODEL DEFINITION**"
   ]
  },
  {
   "cell_type": "code",
   "execution_count": 18,
   "id": "2485f2e5",
   "metadata": {},
   "outputs": [],
   "source": [
    "class Encoder(nn.Module):\n",
    "    def __init__(self, vocab_size, embed_dim, hidden_dim, n_layers, dropout):\n",
    "        super().__init__()\n",
    "        self.embedding = nn.Embedding(vocab_size, embed_dim)\n",
    "        self.lstm = nn.LSTM(embed_dim, hidden_dim, n_layers, \n",
    "                           dropout=dropout, batch_first=True, bidirectional=True)\n",
    "        self.dropout = nn.Dropout(dropout)\n",
    "        \n",
    "    def forward(self, src, src_mask):\n",
    "        # src: [batch_size, src_len]\n",
    "        embedded = self.dropout(self.embedding(src))\n",
    "        # Pack padded sequence\n",
    "        packed_embedded = nn.utils.rnn.pack_padded_sequence(\n",
    "            embedded, src_mask.sum(1).cpu(), batch_first=True, enforce_sorted=False\n",
    "        )\n",
    "        outputs, (hidden, cell) = self.lstm(packed_embedded)\n",
    "        # Unpack sequence\n",
    "        outputs, _ = nn.utils.rnn.pad_packed_sequence(outputs, batch_first=True)\n",
    "        return outputs, hidden, cell\n",
    "\n",
    "class Attention(nn.Module):\n",
    "    def __init__(self, hidden_dim):\n",
    "        super().__init__()\n",
    "        self.attn = nn.Linear(hidden_dim * 3, hidden_dim)\n",
    "        self.v = nn.Linear(hidden_dim, 1, bias=False)\n",
    "        \n",
    "    def forward(self, hidden, encoder_outputs, mask):\n",
    "        # hidden: [batch_size, hidden_dim]\n",
    "        # encoder_outputs: [batch_size, src_len, hidden_dim * 2]\n",
    "        batch_size, src_len, hidden_dim = encoder_outputs.shape\n",
    "        hidden = hidden.unsqueeze(1).repeat(1, src_len, 1)\n",
    "        \n",
    "        energy = torch.tanh(self.attn(torch.cat((hidden, encoder_outputs), dim=2)))\n",
    "        attention = self.v(energy).squeeze(2)\n",
    "        \n",
    "        attention = attention.masked_fill(mask == 0, float('-inf'))\n",
    "        return F.softmax(attention, dim=1)\n",
    "\n",
    "class Decoder(nn.Module):\n",
    "    def __init__(self, vocab_size, embed_dim, hidden_dim, n_layers, dropout):\n",
    "        super().__init__()\n",
    "        self.embedding = nn.Embedding(vocab_size, embed_dim)\n",
    "        self.attention = Attention(hidden_dim)\n",
    "        # Modify input size to account for bidirectional encoder\n",
    "        self.lstm = nn.LSTM(hidden_dim * 2 + embed_dim, hidden_dim, n_layers, \n",
    "                           dropout=dropout, batch_first=True)\n",
    "        self.fc_out = nn.Linear(hidden_dim * 3 + embed_dim, vocab_size)\n",
    "        self.dropout = nn.Dropout(dropout)\n",
    "        \n",
    "    def forward(self, input, hidden, cell, encoder_outputs, mask):\n",
    "        # input: [batch_size, 1]\n",
    "        input = input.unsqueeze(1)\n",
    "        embedded = self.dropout(self.embedding(input))\n",
    "        \n",
    "        # Modify hidden state handling for bidirectional encoder\n",
    "        # Take only the last n_layers entries from hidden state\n",
    "        hidden = hidden[-self.lstm.num_layers:]\n",
    "        cell = cell[-self.lstm.num_layers:]\n",
    "        \n",
    "        a = self.attention(hidden[-1], encoder_outputs, mask)\n",
    "        a = a.unsqueeze(1)\n",
    "        \n",
    "        weighted = torch.bmm(a, encoder_outputs)\n",
    "        \n",
    "        rnn_input = torch.cat((embedded, weighted), dim=2)\n",
    "        output, (hidden, cell) = self.lstm(rnn_input, (hidden, cell))\n",
    "        \n",
    "        embedded = embedded.squeeze(1)\n",
    "        output = output.squeeze(1)\n",
    "        weighted = weighted.squeeze(1)\n",
    "        \n",
    "        prediction = self.fc_out(torch.cat((output, weighted, embedded), dim=1))\n",
    "        return prediction, hidden, cell\n",
    "\n",
    "class Seq2SeqSummarizer(nn.Module):\n",
    "    def __init__(self, vocab_size, embed_dim, hidden_dim, n_layers, dropout):\n",
    "        super().__init__()\n",
    "        self.encoder = Encoder(vocab_size, embed_dim, hidden_dim, n_layers, dropout)\n",
    "        self.decoder = Decoder(vocab_size, embed_dim, hidden_dim, n_layers, dropout)\n",
    "        \n",
    "    def forward(self, src, src_mask, trg, teacher_forcing_ratio=0.5):\n",
    "        # src: [batch_size, src_len]\n",
    "        # trg: [batch_size, trg_len]\n",
    "        batch_size = src.shape[0]\n",
    "        trg_len = trg.shape[1]\n",
    "        vocab_size = self.decoder.fc_out.out_features\n",
    "        \n",
    "        outputs = torch.zeros(batch_size, trg_len, vocab_size).to(src.device)\n",
    "        \n",
    "        encoder_outputs, hidden, cell = self.encoder(src, src_mask)\n",
    "        \n",
    "        # First input to the decoder is the <sos> token\n",
    "        input = trg[:, 0]\n",
    "        \n",
    "        for t in range(1, trg_len):\n",
    "            output, hidden, cell = self.decoder(input, hidden, cell, \n",
    "                                              encoder_outputs, src_mask)\n",
    "            outputs[:, t] = output\n",
    "            \n",
    "            # Teacher forcing\n",
    "            teacher_force = torch.rand(1) < teacher_forcing_ratio\n",
    "            top1 = output.max(1)[1]\n",
    "            input = trg[:, t] if teacher_force else top1\n",
    "            \n",
    "        return outputs"
   ]
  },
  {
   "cell_type": "markdown",
   "id": "0405b1c5",
   "metadata": {},
   "source": [
    "MODEL INITIALIZATION"
   ]
  },
  {
   "cell_type": "code",
   "execution_count": 19,
   "id": "ef00280a",
   "metadata": {},
   "outputs": [],
   "source": [
    "\n",
    "VOCAB_SIZE = len(tokenizer.vocab)\n",
    "EMBED_DIM = 256\n",
    "HIDDEN_DIM = 512\n",
    "N_LAYERS = 2\n",
    "DROPOUT = 0.5\n",
    "\n",
    "model = Seq2SeqSummarizer(VOCAB_SIZE, EMBED_DIM, HIDDEN_DIM, N_LAYERS, DROPOUT)"
   ]
  },
  {
   "cell_type": "markdown",
   "id": "7c6880d0",
   "metadata": {},
   "source": [
    "**EPOCH AND MODEL TRAINING FUNCTION DEFINITION**"
   ]
  },
  {
   "cell_type": "code",
   "execution_count": null,
   "id": "3411397e",
   "metadata": {},
   "outputs": [],
   "source": [
    "def train_epoch(model, dataloader, criterion, optimizer, device, clip=1.0):\n",
    "    model.train()\n",
    "    total_loss = 0\n",
    "    \n",
    "    for batch in tqdm(dataloader, desc=\"Training\"):\n",
    "        optimizer.zero_grad()\n",
    "        \n",
    "        article_input_ids = batch['article_input_ids'].to(device)\n",
    "        article_attention_mask = batch['article_attention_mask'].to(device)\n",
    "        summary_input_ids = batch['summary_input_ids'].to(device)\n",
    "        \n",
    "        outputs = model(article_input_ids, article_attention_mask, summary_input_ids)\n",
    "        \n",
    "        # Reshape outputs and target for loss calculation\n",
    "        outputs = outputs[:, 1:].contiguous().view(-1, outputs.shape[-1])\n",
    "        target = summary_input_ids[:, 1:].contiguous().view(-1)\n",
    "        \n",
    "        loss = criterion(outputs, target)\n",
    "        loss.backward()\n",
    "        \n",
    "        torch.nn.utils.clip_grad_norm_(model.parameters(), clip)\n",
    "        \n",
    "        optimizer.step()\n",
    "        total_loss += loss.item()\n",
    "    \n",
    "    return total_loss / len(dataloader)\n",
    "\n",
    "def train_model(model, train_loader, val_loader, optimizer, criterion, device, num_epochs=10, early_stopping_patience=3):\n",
    "    model.to(device)\n",
    "    best_val_loss = float('inf')\n",
    "    early_stop_counter = 0\n",
    "    training_stats = []\n",
    "    best_model_state = None\n",
    "\n",
    "    print(\"Starting training...\")\n",
    "    \n",
    "    for epoch in range(num_epochs):\n",
    "        print(f\"\\nEpoch {epoch+1}/{num_epochs}\")\n",
    "        \n",
    "        train_loss = train_epoch(model, train_loader, criterion, optimizer, device)\n",
    "        val_loss, rouge_scores = evaluate(model, val_loader, criterion, device)\n",
    "        \n",
    "        print(f\"Train Loss: {train_loss:.4f}\")\n",
    "        print(f\"Val Loss: {val_loss:.4f}\")\n",
    "        print(\"ROUGE Scores:\", rouge_scores)\n",
    "        \n",
    "        training_stats.append({\n",
    "            'epoch': epoch + 1,\n",
    "            'train_loss': train_loss,\n",
    "            'val_loss': val_loss,\n",
    "            'rouge_scores': rouge_scores\n",
    "        })\n",
    "        \n",
    "        # Early stopping check\n",
    "        if val_loss < best_val_loss:\n",
    "            best_val_loss = val_loss\n",
    "            early_stop_counter = 0\n",
    "            best_model_state = copy.deepcopy(model.state_dict())\n",
    "            torch.save(model.state_dict(), 'best_summarizer_model.pth')\n",
    "            print(f\"Saved new best model with validation loss: {val_loss:.4f}\")\n",
    "        else:\n",
    "            early_stop_counter += 1\n",
    "            print(f\"Early stopping counter: {early_stop_counter}/{early_stopping_patience}\")\n",
    "            \n",
    "        if early_stop_counter >= early_stopping_patience:\n",
    "            print(\"Early stopping triggered!\")\n",
    "            break\n",
    "    \n",
    "    # Load the best model before returning\n",
    "    if best_model_state is not None:\n",
    "        model.load_state_dict(best_model_state)\n",
    "        print(\"Restored best model state before returning\")\n",
    "    \n",
    "    return model, training_stats\n"
   ]
  },
  {
   "cell_type": "markdown",
   "id": "db090b12",
   "metadata": {},
   "source": [
    "**MODEL EVALUATION FUNCTION DEFINITION**"
   ]
  },
  {
   "cell_type": "code",
   "execution_count": null,
   "id": "79712799",
   "metadata": {},
   "outputs": [],
   "source": [
    "def evaluate(model, dataloader, criterion, device):\n",
    "    model.eval()\n",
    "    total_loss = 0\n",
    "    scorer = rouge_scorer.RougeScorer(['rouge1', 'rouge2', 'rougeL'], use_stemmer=True)\n",
    "    rouge_scores = {'rouge1': [], 'rouge2': [], 'rougeL': []}\n",
    "    \n",
    "    with torch.no_grad():\n",
    "        for batch in tqdm(dataloader, desc=\"Evaluating\"):\n",
    "            article_input_ids = batch['article_input_ids'].to(device)\n",
    "            article_attention_mask = batch['article_attention_mask'].to(device)\n",
    "            summary_input_ids = batch['summary_input_ids'].to(device)\n",
    "            \n",
    "            outputs = model(article_input_ids, article_attention_mask, summary_input_ids, \n",
    "                          teacher_forcing_ratio=0.0)\n",
    "            \n",
    "            # Calculate loss\n",
    "            outputs_flat = outputs[:, 1:].contiguous().view(-1, outputs.shape[-1])\n",
    "            target_flat = summary_input_ids[:, 1:].contiguous().view(-1)\n",
    "            loss = criterion(outputs_flat, target_flat)\n",
    "            total_loss += loss.item()\n",
    "            \n",
    "            # Calculate ROUGE scores\n",
    "            predictions = torch.argmax(outputs, dim=-1)\n",
    "            for pred, target in zip(predictions, summary_input_ids):\n",
    "                pred_text = tokenizer.decode(pred, skip_special_tokens=True)\n",
    "                target_text = tokenizer.decode(target, skip_special_tokens=True)\n",
    "                scores = scorer.score(target_text, pred_text)\n",
    "                \n",
    "                for metric in rouge_scores:\n",
    "                    rouge_scores[metric].append(scores[metric].fmeasure)\n",
    "    \n",
    "    avg_loss = total_loss / len(dataloader)\n",
    "    avg_rouge_scores = {k: sum(v)/len(v) for k, v in rouge_scores.items()}\n",
    "    \n",
    "    return avg_loss, avg_rouge_scores"
   ]
  },
  {
   "cell_type": "markdown",
   "id": "fc340b07",
   "metadata": {},
   "source": [
    "**TRAINING PROCESS**"
   ]
  },
  {
   "cell_type": "code",
   "execution_count": null,
   "id": "e8e0b331",
   "metadata": {},
   "outputs": [],
   "source": [
    "NUM_EPOCHS = 3\n",
    "LEARNING_RATE = 0.001\n",
    "EARLY_STOPPING_PATIENCE = 2\n",
    "\n",
    "# Initialize optimizer and criterion\n",
    "optimizer = optim.Adam(model.parameters(), lr=LEARNING_RATE)\n",
    "criterion = nn.CrossEntropyLoss(ignore_index=tokenizer.pad_token_id)\n",
    "\n",
    "# Train the model with early stopping\n",
    "model, training_stats = train_model(\n",
    "    model=model,\n",
    "    train_loader=train_loader,\n",
    "    val_loader=val_loader,\n",
    "    optimizer=optimizer,\n",
    "    criterion=criterion,\n",
    "    device=device,\n",
    "    num_epochs=NUM_EPOCHS,\n",
    "    early_stopping_patience=EARLY_STOPPING_PATIENCE\n",
    ")\n",
    "\n",
    "print(\"Training completed!\")"
   ]
  }
 ],
 "metadata": {
  "kernelspec": {
   "display_name": "dl",
   "language": "python",
   "name": "python3"
  },
  "language_info": {
   "codemirror_mode": {
    "name": "ipython",
    "version": 3
   },
   "file_extension": ".py",
   "mimetype": "text/x-python",
   "name": "python",
   "nbconvert_exporter": "python",
   "pygments_lexer": "ipython3",
   "version": "3.12.2"
  }
 },
 "nbformat": 4,
 "nbformat_minor": 5
}
